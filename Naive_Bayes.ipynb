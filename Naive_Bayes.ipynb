{
 "cells": [
  {
   "cell_type": "code",
   "execution_count": 33,
   "metadata": {},
   "outputs": [],
   "source": [
    "import matplotlib as plt\n",
    "from sklearn import datasets\n",
    "import pandas as pd\n",
    "import numpy as np"
   ]
  },
  {
   "cell_type": "markdown",
   "metadata": {},
   "source": [
    "# Loading Iris Data"
   ]
  },
  {
   "cell_type": "code",
   "execution_count": 34,
   "metadata": {},
   "outputs": [],
   "source": [
    "iris = datasets.load_iris()"
   ]
  },
  {
   "cell_type": "code",
   "execution_count": 35,
   "metadata": {},
   "outputs": [],
   "source": [
    "iris_df = pd.DataFrame(data= np.c_[iris['data'], iris['target']],\n",
    "                     columns= iris['feature_names'] + ['target'])"
   ]
  },
  {
   "cell_type": "code",
   "execution_count": 36,
   "metadata": {},
   "outputs": [
    {
     "data": {
      "text/html": [
       "<div>\n",
       "<style scoped>\n",
       "    .dataframe tbody tr th:only-of-type {\n",
       "        vertical-align: middle;\n",
       "    }\n",
       "\n",
       "    .dataframe tbody tr th {\n",
       "        vertical-align: top;\n",
       "    }\n",
       "\n",
       "    .dataframe thead th {\n",
       "        text-align: right;\n",
       "    }\n",
       "</style>\n",
       "<table border=\"1\" class=\"dataframe\">\n",
       "  <thead>\n",
       "    <tr style=\"text-align: right;\">\n",
       "      <th></th>\n",
       "      <th>sepal length (cm)</th>\n",
       "      <th>sepal width (cm)</th>\n",
       "      <th>petal length (cm)</th>\n",
       "      <th>petal width (cm)</th>\n",
       "      <th>target</th>\n",
       "    </tr>\n",
       "  </thead>\n",
       "  <tbody>\n",
       "    <tr>\n",
       "      <th>0</th>\n",
       "      <td>5.1</td>\n",
       "      <td>3.5</td>\n",
       "      <td>1.4</td>\n",
       "      <td>0.2</td>\n",
       "      <td>0.0</td>\n",
       "    </tr>\n",
       "    <tr>\n",
       "      <th>1</th>\n",
       "      <td>4.9</td>\n",
       "      <td>3.0</td>\n",
       "      <td>1.4</td>\n",
       "      <td>0.2</td>\n",
       "      <td>0.0</td>\n",
       "    </tr>\n",
       "    <tr>\n",
       "      <th>2</th>\n",
       "      <td>4.7</td>\n",
       "      <td>3.2</td>\n",
       "      <td>1.3</td>\n",
       "      <td>0.2</td>\n",
       "      <td>0.0</td>\n",
       "    </tr>\n",
       "    <tr>\n",
       "      <th>3</th>\n",
       "      <td>4.6</td>\n",
       "      <td>3.1</td>\n",
       "      <td>1.5</td>\n",
       "      <td>0.2</td>\n",
       "      <td>0.0</td>\n",
       "    </tr>\n",
       "    <tr>\n",
       "      <th>4</th>\n",
       "      <td>5.0</td>\n",
       "      <td>3.6</td>\n",
       "      <td>1.4</td>\n",
       "      <td>0.2</td>\n",
       "      <td>0.0</td>\n",
       "    </tr>\n",
       "  </tbody>\n",
       "</table>\n",
       "</div>"
      ],
      "text/plain": [
       "   sepal length (cm)  sepal width (cm)  petal length (cm)  petal width (cm)  \\\n",
       "0                5.1               3.5                1.4               0.2   \n",
       "1                4.9               3.0                1.4               0.2   \n",
       "2                4.7               3.2                1.3               0.2   \n",
       "3                4.6               3.1                1.5               0.2   \n",
       "4                5.0               3.6                1.4               0.2   \n",
       "\n",
       "   target  \n",
       "0     0.0  \n",
       "1     0.0  \n",
       "2     0.0  \n",
       "3     0.0  \n",
       "4     0.0  "
      ]
     },
     "execution_count": 36,
     "metadata": {},
     "output_type": "execute_result"
    }
   ],
   "source": [
    "iris_df.head()"
   ]
  },
  {
   "cell_type": "code",
   "execution_count": 37,
   "metadata": {},
   "outputs": [],
   "source": [
    "iris_nparr = np.asarray(iris_df)"
   ]
  },
  {
   "cell_type": "markdown",
   "metadata": {},
   "source": [
    "# Working through self generated data!"
   ]
  },
  {
   "cell_type": "code",
   "execution_count": 38,
   "metadata": {},
   "outputs": [],
   "source": [
    "from sklearn.datasets import make_blobs\n",
    "import matplotlib as plt\n",
    "import scipy.stats\n",
    "import math\n",
    "pi = math.pi"
   ]
  },
  {
   "cell_type": "code",
   "execution_count": 39,
   "metadata": {},
   "outputs": [
    {
     "name": "stdout",
     "output_type": "stream",
     "text": [
      "[[-7.94152277e-01  2.10495117e+00]\n",
      " [-9.15155186e+00 -4.81286449e+00]\n",
      " [-3.10367371e+00  3.90202401e+00]\n",
      " [-1.42946517e+00  5.16850105e+00]\n",
      " [-7.46938680e+00 -4.20198333e+00]\n",
      " [-9.19585147e+00 -3.90678125e+00]\n",
      " [-9.31764266e+00 -4.27315015e+00]\n",
      " [-9.20490564e+00 -4.57687928e+00]\n",
      " [-2.76017908e+00  5.55121358e+00]\n",
      " [-1.17104176e+00  4.33091816e+00]\n",
      " [-1.00364080e+01 -5.56912090e+00]\n",
      " [-1.53773863e+00  5.53597378e+00]\n",
      " [-1.01081595e+01 -4.57071061e+00]\n",
      " [-2.40671820e+00  6.09894447e+00]\n",
      " [-7.80701277e+00 -5.84970947e+00]\n",
      " [-9.01137732e+00 -3.73981465e+00]\n",
      " [-9.76521794e+00 -3.27079714e+00]\n",
      " [-2.34673261e+00  3.56128423e+00]\n",
      " [-2.00341358e+00  4.45008673e+00]\n",
      " [-1.10926243e+01 -3.78396611e+00]\n",
      " [-9.43495141e+00 -3.71261146e+00]\n",
      " [-1.02639310e+01 -3.92073400e+00]\n",
      " [-9.74891334e+00 -4.24998970e+00]\n",
      " [-1.34052081e+00  4.15711949e+00]\n",
      " [-2.03484486e+00  3.76775946e+00]\n",
      " [-1.03078293e+01 -6.38818631e+00]\n",
      " [-9.55634806e+00 -4.05350378e+00]\n",
      " [-1.35938959e+00  4.05424002e+00]\n",
      " [-1.97451969e-01  2.34634916e+00]\n",
      " [-9.47713617e+00 -5.09768994e+00]\n",
      " [-1.92744799e+00  4.93684534e+00]\n",
      " [-2.80207810e+00  4.05714715e+00]\n",
      " [-1.05148070e+01 -4.95037538e+00]\n",
      " [-1.85139546e+00  3.51886090e+00]\n",
      " [-8.37006175e+00 -3.61533685e+00]\n",
      " [-1.01842823e+01 -4.05509442e+00]\n",
      " [-4.60642026e-01  4.59164629e+00]\n",
      " [-1.13708298e+01 -3.63818916e+00]\n",
      " [-1.01786328e+01 -4.55726918e+00]\n",
      " [-1.01341572e+01 -4.07240274e+00]\n",
      " [-9.71704743e+00 -4.02646125e+00]\n",
      " [-9.64716652e+00 -5.26563196e+00]\n",
      " [-1.98197711e+00  4.02243551e+00]\n",
      " [-1.12277706e+01 -3.40281105e+00]\n",
      " [-1.46126019e+00  4.52549851e+00]\n",
      " [-9.46824718e+00 -3.81564734e+00]\n",
      " [-7.57969185e-01  4.90898421e+00]\n",
      " [ 5.26015501e-01  3.00999353e+00]\n",
      " [-2.77687025e+00  4.64090557e+00]\n",
      " [-1.78245013e+00  3.47072043e+00]\n",
      " [-1.88188805e+00  4.20573180e+00]\n",
      " [-9.33866271e+00 -5.58078689e+00]\n",
      " [-9.91989138e+00 -3.33496829e+00]\n",
      " [-1.03985907e+01 -3.12934293e+00]\n",
      " [-1.53940095e+00  5.02369298e+00]\n",
      " [-9.50250118e+00 -4.12805171e+00]\n",
      " [-2.27956075e+00  5.10452190e+00]\n",
      " [-8.72395657e+00 -1.98624680e+00]\n",
      " [-1.61734616e+00  4.98930508e+00]\n",
      " [-1.14663009e+00  4.10839703e+00]\n",
      " [-1.47299851e+00  4.81654152e+00]\n",
      " [-1.06446292e+01 -3.05186166e+00]\n",
      " [-9.49452769e+00 -2.66012266e+00]\n",
      " [-1.00223295e+01 -4.72851017e+00]\n",
      " [-1.18556944e+01 -2.71718452e+00]\n",
      " [-8.66625539e+00 -4.24065641e+00]\n",
      " [-2.41395785e+00  5.65935802e+00]\n",
      " [-1.12702713e+01 -3.63980083e+00]\n",
      " [-1.83198811e+00  3.52863145e+00]\n",
      " [-1.23606555e+00  4.48382994e+00]\n",
      " [-9.59422086e+00 -3.35977002e+00]\n",
      " [-9.25715605e+00 -4.90704915e+00]\n",
      " [-9.39539322e+00 -3.53306634e+00]\n",
      " [-8.20576492e-01  5.33759195e+00]\n",
      " [ 2.42271161e-04  5.14853403e+00]\n",
      " [-1.34392496e+00  2.38428865e+00]\n",
      " [-9.12882635e+00 -3.20293691e+00]\n",
      " [-9.95404351e+00 -4.17966279e+00]\n",
      " [-2.18773166e+00  3.33352125e+00]\n",
      " [-2.10668847e+00  5.63099757e+00]\n",
      " [-5.27930518e-01  5.92630669e+00]\n",
      " [-1.11969805e+01 -3.09000323e+00]\n",
      " [-1.49952284e+00  5.28265879e+00]\n",
      " [-8.09305380e+00 -2.84229185e+00]\n",
      " [-2.35122066e+00  4.00973634e+00]\n",
      " [-5.25790464e-01  3.30659860e+00]\n",
      " [-1.46864442e+00  6.50674501e+00]\n",
      " [-7.58703957e-01  3.72276201e+00]\n",
      " [-1.96576392e+00  5.23446451e+00]\n",
      " [-2.33080604e+00  4.39382527e+00]\n",
      " [-8.83737393e+00 -3.58385583e+00]\n",
      " [-1.60875215e+00  3.76949422e+00]\n",
      " [-1.86845414e+00  4.99311306e+00]\n",
      " [-2.33022219e+00  4.78405366e+00]\n",
      " [-8.87629480e+00 -3.54444801e+00]\n",
      " [-8.95888790e+00 -1.76636890e+00]\n",
      " [-9.98030310e+00 -5.07536728e+00]\n",
      " [-1.37397258e+00  5.29163103e+00]\n",
      " [-9.18676083e+00 -2.90890645e+00]\n",
      " [ 8.52518583e-02  3.64528297e+00]] [0 1 0 0 1 1 1 1 0 0 1 0 1 0 1 1 1 0 0 1 1 1 1 0 0 1 1 0 0 1 0 0 1 0 1 1 0\n",
      " 1 1 1 1 1 0 1 0 1 0 0 0 0 0 1 1 1 0 1 0 1 0 0 0 1 1 1 1 1 0 1 0 0 1 1 1 0\n",
      " 0 0 1 1 0 0 0 1 0 1 0 0 0 0 0 0 1 0 0 0 1 1 1 0 1 0]\n"
     ]
    }
   ],
   "source": [
    "x, y = make_blobs(n_samples = 100, centers = 2, n_features = 2, random_state = 1)\n",
    "print(x, y)"
   ]
  },
  {
   "cell_type": "code",
   "execution_count": 40,
   "metadata": {},
   "outputs": [
    {
     "name": "stdout",
     "output_type": "stream",
     "text": [
      "(100, 2) (100,)\n"
     ]
    }
   ],
   "source": [
    "print(x.shape, y.shape)"
   ]
  },
  {
   "cell_type": "code",
   "execution_count": 41,
   "metadata": {},
   "outputs": [
    {
     "name": "stdout",
     "output_type": "stream",
     "text": [
      "[-9.15155186 -4.81286449]\n"
     ]
    }
   ],
   "source": [
    "X = x[:5]\n",
    "Y = y[:5]\n",
    "\n",
    "print(X[1])"
   ]
  },
  {
   "cell_type": "code",
   "execution_count": 42,
   "metadata": {},
   "outputs": [],
   "source": [
    "# fit a probability distribution to a univariate data sample\n",
    "def fit_distribution(data):\n",
    "#     estimate parameters\n",
    "    mu = np.mean(data)\n",
    "    sigma = np.std(data)\n",
    "    print(mu,sigma)\n",
    "#     fit distribution\n",
    "    dist = scipy.stats.norm(mu, sigma)\n",
    "    return dist"
   ]
  },
  {
   "cell_type": "code",
   "execution_count": 43,
   "metadata": {},
   "outputs": [],
   "source": [
    "# sort data into classes\n",
    "Xy0 = x[y == 0]\n",
    "Xy1 = x[y == 1]"
   ]
  },
  {
   "cell_type": "code",
   "execution_count": 44,
   "metadata": {},
   "outputs": [
    {
     "name": "stdout",
     "output_type": "stream",
     "text": [
      "0.5 0.5\n"
     ]
    }
   ],
   "source": [
    "# calculate priors\n",
    "priory0 = len(Xy0)/len(x)\n",
    "priory1 = len(Xy1)/len(x)\n",
    "print(priory0, priory1)"
   ]
  },
  {
   "cell_type": "code",
   "execution_count": 45,
   "metadata": {},
   "outputs": [
    {
     "name": "stdout",
     "output_type": "stream",
     "text": [
      "-1.5632888906409914 0.787444265443213\n",
      "4.426680361487157 0.958296071258367\n",
      "-9.681177100524485 0.8943078901048118\n",
      "-3.9713794295185845 0.9308177595208521\n"
     ]
    }
   ],
   "source": [
    "# PDFs for y = 0, for each feature x0, x1\n",
    "X0y0 = fit_distribution(Xy0[:,0])\n",
    "X1y0 = fit_distribution(Xy0[:,1])\n",
    "# PDFs for y = 1\n",
    "X0y1 = fit_distribution(Xy1[:,0])\n",
    "X1y1 = fit_distribution(Xy1[:,1])"
   ]
  },
  {
   "cell_type": "code",
   "execution_count": 46,
   "metadata": {},
   "outputs": [],
   "source": [
    "def probability(sample, prior, dist0, dist1):\n",
    "    return(prior*dist0.pdf(sample[0])*dist1.pdf(sample[1]))"
   ]
  },
  {
   "cell_type": "code",
   "execution_count": 47,
   "metadata": {},
   "outputs": [
    {
     "name": "stdout",
     "output_type": "stream",
     "text": [
      "[-7.4693868  -4.20198333] 1\n"
     ]
    }
   ],
   "source": [
    "sample, label = x[4], y[4]\n",
    "\n",
    "print(sample, label)"
   ]
  },
  {
   "cell_type": "code",
   "execution_count": 48,
   "metadata": {},
   "outputs": [
    {
     "name": "stdout",
     "output_type": "stream",
     "text": [
      "1.5929308729447612e-31\n",
      "0.004354081017344896\n"
     ]
    }
   ],
   "source": [
    "py0 = probability(sample, priory0, X0y0, X1y0)\n",
    "print(py0)\n",
    "py1 = probability(sample, priory1, X0y1, X1y1)\n",
    "print(py1)"
   ]
  },
  {
   "cell_type": "code",
   "execution_count": 49,
   "metadata": {},
   "outputs": [
    {
     "name": "stdout",
     "output_type": "stream",
     "text": [
      "P(y=0 | [-7.4693868  -4.20198333]) = 0.000\n",
      "P(y=1 | [-7.4693868  -4.20198333]) = 0.435\n"
     ]
    }
   ],
   "source": [
    "print('P(y=0 | %s) = %.3f' % (sample, py0*100))\n",
    "print('P(y=1 | %s) = %.3f' % (sample, py1*100))"
   ]
  },
  {
   "cell_type": "markdown",
   "metadata": {},
   "source": [
    "# Working through Iris Dataset!"
   ]
  },
  {
   "cell_type": "code",
   "execution_count": 50,
   "metadata": {},
   "outputs": [
    {
     "data": {
      "text/plain": [
       "array([[5.1, 3.5, 1.4, 0.2, 0. ],\n",
       "       [4.9, 3. , 1.4, 0.2, 0. ],\n",
       "       [4.7, 3.2, 1.3, 0.2, 0. ],\n",
       "       [4.6, 3.1, 1.5, 0.2, 0. ],\n",
       "       [5. , 3.6, 1.4, 0.2, 0. ],\n",
       "       [5.4, 3.9, 1.7, 0.4, 0. ],\n",
       "       [4.6, 3.4, 1.4, 0.3, 0. ],\n",
       "       [5. , 3.4, 1.5, 0.2, 0. ],\n",
       "       [4.4, 2.9, 1.4, 0.2, 0. ],\n",
       "       [4.9, 3.1, 1.5, 0.1, 0. ],\n",
       "       [5.4, 3.7, 1.5, 0.2, 0. ],\n",
       "       [4.8, 3.4, 1.6, 0.2, 0. ],\n",
       "       [4.8, 3. , 1.4, 0.1, 0. ],\n",
       "       [4.3, 3. , 1.1, 0.1, 0. ],\n",
       "       [5.8, 4. , 1.2, 0.2, 0. ],\n",
       "       [5.7, 4.4, 1.5, 0.4, 0. ],\n",
       "       [5.4, 3.9, 1.3, 0.4, 0. ],\n",
       "       [5.1, 3.5, 1.4, 0.3, 0. ],\n",
       "       [5.7, 3.8, 1.7, 0.3, 0. ],\n",
       "       [5.1, 3.8, 1.5, 0.3, 0. ],\n",
       "       [5.4, 3.4, 1.7, 0.2, 0. ],\n",
       "       [5.1, 3.7, 1.5, 0.4, 0. ],\n",
       "       [4.6, 3.6, 1. , 0.2, 0. ],\n",
       "       [5.1, 3.3, 1.7, 0.5, 0. ],\n",
       "       [4.8, 3.4, 1.9, 0.2, 0. ],\n",
       "       [5. , 3. , 1.6, 0.2, 0. ],\n",
       "       [5. , 3.4, 1.6, 0.4, 0. ],\n",
       "       [5.2, 3.5, 1.5, 0.2, 0. ],\n",
       "       [5.2, 3.4, 1.4, 0.2, 0. ],\n",
       "       [4.7, 3.2, 1.6, 0.2, 0. ],\n",
       "       [4.8, 3.1, 1.6, 0.2, 0. ],\n",
       "       [5.4, 3.4, 1.5, 0.4, 0. ],\n",
       "       [5.2, 4.1, 1.5, 0.1, 0. ],\n",
       "       [5.5, 4.2, 1.4, 0.2, 0. ],\n",
       "       [4.9, 3.1, 1.5, 0.2, 0. ],\n",
       "       [5. , 3.2, 1.2, 0.2, 0. ],\n",
       "       [5.5, 3.5, 1.3, 0.2, 0. ],\n",
       "       [4.9, 3.6, 1.4, 0.1, 0. ],\n",
       "       [4.4, 3. , 1.3, 0.2, 0. ],\n",
       "       [5.1, 3.4, 1.5, 0.2, 0. ],\n",
       "       [5. , 3.5, 1.3, 0.3, 0. ],\n",
       "       [4.5, 2.3, 1.3, 0.3, 0. ],\n",
       "       [4.4, 3.2, 1.3, 0.2, 0. ],\n",
       "       [5. , 3.5, 1.6, 0.6, 0. ],\n",
       "       [5.1, 3.8, 1.9, 0.4, 0. ],\n",
       "       [4.8, 3. , 1.4, 0.3, 0. ],\n",
       "       [5.1, 3.8, 1.6, 0.2, 0. ],\n",
       "       [4.6, 3.2, 1.4, 0.2, 0. ],\n",
       "       [5.3, 3.7, 1.5, 0.2, 0. ],\n",
       "       [5. , 3.3, 1.4, 0.2, 0. ],\n",
       "       [7. , 3.2, 4.7, 1.4, 1. ],\n",
       "       [6.4, 3.2, 4.5, 1.5, 1. ],\n",
       "       [6.9, 3.1, 4.9, 1.5, 1. ],\n",
       "       [5.5, 2.3, 4. , 1.3, 1. ],\n",
       "       [6.5, 2.8, 4.6, 1.5, 1. ],\n",
       "       [5.7, 2.8, 4.5, 1.3, 1. ],\n",
       "       [6.3, 3.3, 4.7, 1.6, 1. ],\n",
       "       [4.9, 2.4, 3.3, 1. , 1. ],\n",
       "       [6.6, 2.9, 4.6, 1.3, 1. ],\n",
       "       [5.2, 2.7, 3.9, 1.4, 1. ],\n",
       "       [5. , 2. , 3.5, 1. , 1. ],\n",
       "       [5.9, 3. , 4.2, 1.5, 1. ],\n",
       "       [6. , 2.2, 4. , 1. , 1. ],\n",
       "       [6.1, 2.9, 4.7, 1.4, 1. ],\n",
       "       [5.6, 2.9, 3.6, 1.3, 1. ],\n",
       "       [6.7, 3.1, 4.4, 1.4, 1. ],\n",
       "       [5.6, 3. , 4.5, 1.5, 1. ],\n",
       "       [5.8, 2.7, 4.1, 1. , 1. ],\n",
       "       [6.2, 2.2, 4.5, 1.5, 1. ],\n",
       "       [5.6, 2.5, 3.9, 1.1, 1. ],\n",
       "       [5.9, 3.2, 4.8, 1.8, 1. ],\n",
       "       [6.1, 2.8, 4. , 1.3, 1. ],\n",
       "       [6.3, 2.5, 4.9, 1.5, 1. ],\n",
       "       [6.1, 2.8, 4.7, 1.2, 1. ],\n",
       "       [6.4, 2.9, 4.3, 1.3, 1. ],\n",
       "       [6.6, 3. , 4.4, 1.4, 1. ],\n",
       "       [6.8, 2.8, 4.8, 1.4, 1. ],\n",
       "       [6.7, 3. , 5. , 1.7, 1. ],\n",
       "       [6. , 2.9, 4.5, 1.5, 1. ],\n",
       "       [5.7, 2.6, 3.5, 1. , 1. ],\n",
       "       [5.5, 2.4, 3.8, 1.1, 1. ],\n",
       "       [5.5, 2.4, 3.7, 1. , 1. ],\n",
       "       [5.8, 2.7, 3.9, 1.2, 1. ],\n",
       "       [6. , 2.7, 5.1, 1.6, 1. ],\n",
       "       [5.4, 3. , 4.5, 1.5, 1. ],\n",
       "       [6. , 3.4, 4.5, 1.6, 1. ],\n",
       "       [6.7, 3.1, 4.7, 1.5, 1. ],\n",
       "       [6.3, 2.3, 4.4, 1.3, 1. ],\n",
       "       [5.6, 3. , 4.1, 1.3, 1. ],\n",
       "       [5.5, 2.5, 4. , 1.3, 1. ],\n",
       "       [5.5, 2.6, 4.4, 1.2, 1. ],\n",
       "       [6.1, 3. , 4.6, 1.4, 1. ],\n",
       "       [5.8, 2.6, 4. , 1.2, 1. ],\n",
       "       [5. , 2.3, 3.3, 1. , 1. ],\n",
       "       [5.6, 2.7, 4.2, 1.3, 1. ],\n",
       "       [5.7, 3. , 4.2, 1.2, 1. ],\n",
       "       [5.7, 2.9, 4.2, 1.3, 1. ],\n",
       "       [6.2, 2.9, 4.3, 1.3, 1. ],\n",
       "       [5.1, 2.5, 3. , 1.1, 1. ],\n",
       "       [5.7, 2.8, 4.1, 1.3, 1. ],\n",
       "       [6.3, 3.3, 6. , 2.5, 2. ],\n",
       "       [5.8, 2.7, 5.1, 1.9, 2. ],\n",
       "       [7.1, 3. , 5.9, 2.1, 2. ],\n",
       "       [6.3, 2.9, 5.6, 1.8, 2. ],\n",
       "       [6.5, 3. , 5.8, 2.2, 2. ],\n",
       "       [7.6, 3. , 6.6, 2.1, 2. ],\n",
       "       [4.9, 2.5, 4.5, 1.7, 2. ],\n",
       "       [7.3, 2.9, 6.3, 1.8, 2. ],\n",
       "       [6.7, 2.5, 5.8, 1.8, 2. ],\n",
       "       [7.2, 3.6, 6.1, 2.5, 2. ],\n",
       "       [6.5, 3.2, 5.1, 2. , 2. ],\n",
       "       [6.4, 2.7, 5.3, 1.9, 2. ],\n",
       "       [6.8, 3. , 5.5, 2.1, 2. ],\n",
       "       [5.7, 2.5, 5. , 2. , 2. ],\n",
       "       [5.8, 2.8, 5.1, 2.4, 2. ],\n",
       "       [6.4, 3.2, 5.3, 2.3, 2. ],\n",
       "       [6.5, 3. , 5.5, 1.8, 2. ],\n",
       "       [7.7, 3.8, 6.7, 2.2, 2. ],\n",
       "       [7.7, 2.6, 6.9, 2.3, 2. ],\n",
       "       [6. , 2.2, 5. , 1.5, 2. ],\n",
       "       [6.9, 3.2, 5.7, 2.3, 2. ],\n",
       "       [5.6, 2.8, 4.9, 2. , 2. ],\n",
       "       [7.7, 2.8, 6.7, 2. , 2. ],\n",
       "       [6.3, 2.7, 4.9, 1.8, 2. ],\n",
       "       [6.7, 3.3, 5.7, 2.1, 2. ],\n",
       "       [7.2, 3.2, 6. , 1.8, 2. ],\n",
       "       [6.2, 2.8, 4.8, 1.8, 2. ],\n",
       "       [6.1, 3. , 4.9, 1.8, 2. ],\n",
       "       [6.4, 2.8, 5.6, 2.1, 2. ],\n",
       "       [7.2, 3. , 5.8, 1.6, 2. ],\n",
       "       [7.4, 2.8, 6.1, 1.9, 2. ],\n",
       "       [7.9, 3.8, 6.4, 2. , 2. ],\n",
       "       [6.4, 2.8, 5.6, 2.2, 2. ],\n",
       "       [6.3, 2.8, 5.1, 1.5, 2. ],\n",
       "       [6.1, 2.6, 5.6, 1.4, 2. ],\n",
       "       [7.7, 3. , 6.1, 2.3, 2. ],\n",
       "       [6.3, 3.4, 5.6, 2.4, 2. ],\n",
       "       [6.4, 3.1, 5.5, 1.8, 2. ],\n",
       "       [6. , 3. , 4.8, 1.8, 2. ],\n",
       "       [6.9, 3.1, 5.4, 2.1, 2. ],\n",
       "       [6.7, 3.1, 5.6, 2.4, 2. ],\n",
       "       [6.9, 3.1, 5.1, 2.3, 2. ],\n",
       "       [5.8, 2.7, 5.1, 1.9, 2. ],\n",
       "       [6.8, 3.2, 5.9, 2.3, 2. ],\n",
       "       [6.7, 3.3, 5.7, 2.5, 2. ],\n",
       "       [6.7, 3. , 5.2, 2.3, 2. ],\n",
       "       [6.3, 2.5, 5. , 1.9, 2. ],\n",
       "       [6.5, 3. , 5.2, 2. , 2. ],\n",
       "       [6.2, 3.4, 5.4, 2.3, 2. ],\n",
       "       [5.9, 3. , 5.1, 1.8, 2. ]])"
      ]
     },
     "execution_count": 50,
     "metadata": {},
     "output_type": "execute_result"
    }
   ],
   "source": [
    "iris_nparr"
   ]
  },
  {
   "cell_type": "code",
   "execution_count": 51,
   "metadata": {},
   "outputs": [],
   "source": [
    "Xy0 = iris_nparr[iris_nparr[:,-1] == 0]\n",
    "Xy1 = iris_nparr[iris_nparr[:,-1] == 1]\n",
    "Xy2 = iris_nparr[iris_nparr[:,-1] == 2]"
   ]
  },
  {
   "cell_type": "code",
   "execution_count": 52,
   "metadata": {},
   "outputs": [
    {
     "name": "stdout",
     "output_type": "stream",
     "text": [
      "0.3333333333333333 0.3333333333333333 0.3333333333333333\n"
     ]
    }
   ],
   "source": [
    "priory0 = len(Xy0[:,-1])/len(iris_nparr)\n",
    "priory1 = len(Xy1[:,-1])/len(iris_nparr)\n",
    "priory2 = len(Xy2[:,-1])/len(iris_nparr)\n",
    "\n",
    "print(priory0, priory1, priory2)"
   ]
  },
  {
   "cell_type": "code",
   "execution_count": 53,
   "metadata": {},
   "outputs": [],
   "source": [
    "def fit_distribution(data):\n",
    "    mu = np.mean(data)\n",
    "    sigma = np.std(data)\n",
    "#     print(mu, sigma)\n",
    "    \n",
    "    dist = scipy.stats.norm(mu, sigma)\n",
    "    return dist"
   ]
  },
  {
   "cell_type": "code",
   "execution_count": 54,
   "metadata": {},
   "outputs": [],
   "source": [
    "Xy0_x0, Xy0_x1, Xy0_x2, Xy0_x3 = fit_distribution(Xy0[:, 0]), fit_distribution(Xy0[:, 1]), fit_distribution(Xy0[:, 2]), fit_distribution(Xy0[:, 3])\n",
    "Xy1_x0, Xy1_x1, Xy1_x2, Xy1_x3 = fit_distribution(Xy1[:, 0]), fit_distribution(Xy1[:, 1]), fit_distribution(Xy1[:, 2]), fit_distribution(Xy1[:, 3])\n",
    "Xy2_x0, Xy2_x1, Xy2_x2, Xy2_x3 = fit_distribution(Xy2[:, 0]), fit_distribution(Xy2[:, 1]), fit_distribution(Xy2[:, 2]), fit_distribution(Xy2[:, 3])"
   ]
  },
  {
   "cell_type": "code",
   "execution_count": 55,
   "metadata": {},
   "outputs": [],
   "source": [
    "def probability(sample, prior, dist0, dist1, dist2, dist3):\n",
    "    return(prior * dist0.pdf(sample[0]) * dist1.pdf(sample[1]) * dist2.pdf(sample[2]) * dist3.pdf(sample[3]))"
   ]
  },
  {
   "cell_type": "code",
   "execution_count": 56,
   "metadata": {},
   "outputs": [
    {
     "name": "stdout",
     "output_type": "stream",
     "text": [
      "[4.9 3.1 1.5 0.2 0. ] 0.0\n"
     ]
    }
   ],
   "source": [
    "sample = iris_nparr[34]\n",
    "label = iris_nparr[34,-1]\n",
    "\n",
    "print(sample, label)"
   ]
  },
  {
   "cell_type": "code",
   "execution_count": 57,
   "metadata": {},
   "outputs": [
    {
     "name": "stdout",
     "output_type": "stream",
     "text": [
      "2.0746839772043923\n",
      "6.324462919703278e-17\n",
      "1.3119213728578478e-24\n"
     ]
    }
   ],
   "source": [
    "py0 = probability(sample, priory0, Xy0_x0, Xy0_x1, Xy0_x2, Xy0_x3)\n",
    "print(py0)\n",
    "py1 = probability(sample, priory1, Xy1_x0, Xy1_x1, Xy1_x2, Xy1_x3)\n",
    "print(py1)\n",
    "py2 = probability(sample, priory2, Xy2_x0, Xy2_x1, Xy2_x2, Xy2_x3)\n",
    "print(py2)"
   ]
  },
  {
   "cell_type": "code",
   "execution_count": 58,
   "metadata": {},
   "outputs": [
    {
     "name": "stdout",
     "output_type": "stream",
     "text": [
      "P(y=0 | [4.9 3.1 1.5 0.2]) = 207.468\n",
      "P(y=1 | [4.9 3.1 1.5 0.2]) = 0.000\n",
      "P(y=2 | [4.9 3.1 1.5 0.2]) = 0.000\n"
     ]
    }
   ],
   "source": [
    "# This gives a 'score' as output, not probability as the quantity is not normalized, a simplification often performed when implementing naive bayes!\n",
    "print('P(y=0 | %s) = %.3f' % (sample[:4], py0*100))\n",
    "print('P(y=1 | %s) = %.3f' % (sample[:4], py1*100))\n",
    "print('P(y=2 | %s) = %.3f' % (sample[:4], py2*100))"
   ]
  }
 ],
 "metadata": {
  "kernelspec": {
   "display_name": "Python 3",
   "language": "python",
   "name": "python3"
  },
  "language_info": {
   "codemirror_mode": {
    "name": "ipython",
    "version": 3
   },
   "file_extension": ".py",
   "mimetype": "text/x-python",
   "name": "python",
   "nbconvert_exporter": "python",
   "pygments_lexer": "ipython3",
   "version": "3.6.9"
  }
 },
 "nbformat": 4,
 "nbformat_minor": 2
}
